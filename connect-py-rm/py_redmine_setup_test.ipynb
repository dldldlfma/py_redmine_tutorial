{
 "cells": [
  {
   "cell_type": "code",
   "execution_count": 78,
   "metadata": {},
   "outputs": [],
   "source": [
    "from redminelib import Redmine\n",
    "\n",
    "import requests\n",
    "\n",
    "redmine_url = \"http://127.0.0.1/redmine\"\n",
    "\n",
    "redmine = Redmine(redmine_url, username=\"admin\", password=\"11111111\")"
   ]
  },
  {
   "cell_type": "code",
   "execution_count": 80,
   "metadata": {},
   "outputs": [
    {
     "data": {
      "text/plain": [
       "['__class__',\n",
       " '__delattr__',\n",
       " '__dict__',\n",
       " '__dir__',\n",
       " '__doc__',\n",
       " '__eq__',\n",
       " '__format__',\n",
       " '__ge__',\n",
       " '__getattr__',\n",
       " '__getattribute__',\n",
       " '__gt__',\n",
       " '__hash__',\n",
       " '__init__',\n",
       " '__init_subclass__',\n",
       " '__le__',\n",
       " '__lt__',\n",
       " '__module__',\n",
       " '__ne__',\n",
       " '__new__',\n",
       " '__reduce__',\n",
       " '__reduce_ex__',\n",
       " '__repr__',\n",
       " '__setattr__',\n",
       " '__sizeof__',\n",
       " '__str__',\n",
       " '__subclasshook__',\n",
       " '__weakref__',\n",
       " 'auth',\n",
       " 'date_format',\n",
       " 'datetime_format',\n",
       " 'download',\n",
       " 'engine',\n",
       " 'raise_attr_exception',\n",
       " 'search',\n",
       " 'session',\n",
       " 'upload',\n",
       " 'url',\n",
       " 'ver']"
      ]
     },
     "execution_count": 80,
     "metadata": {},
     "output_type": "execute_result"
    }
   ],
   "source": [
    "dir(redmine)"
   ]
  },
  {
   "cell_type": "code",
   "execution_count": 81,
   "metadata": {},
   "outputs": [
    {
     "data": {
      "text/plain": [
       "'http://127.0.0.1/redmine'"
      ]
     },
     "execution_count": 81,
     "metadata": {},
     "output_type": "execute_result"
    }
   ],
   "source": [
    "redmine.url"
   ]
  },
  {
   "cell_type": "code",
   "execution_count": 98,
   "metadata": {},
   "outputs": [
    {
     "data": {
      "text/plain": [
       "[<redminelib.resources.Project #2 \"Redmine 활성화\">,\n",
       " <redminelib.resources.Project #3 \"test\">]"
      ]
     },
     "execution_count": 98,
     "metadata": {},
     "output_type": "execute_result"
    }
   ],
   "source": [
    "list(redmine.project.all())"
   ]
  },
  {
   "cell_type": "code",
   "execution_count": 99,
   "metadata": {},
   "outputs": [
    {
     "data": {
      "text/plain": [
       "2"
      ]
     },
     "execution_count": 99,
     "metadata": {},
     "output_type": "execute_result"
    }
   ],
   "source": [
    "len(redmine.project.all())"
   ]
  },
  {
   "cell_type": "code",
   "execution_count": 114,
   "metadata": {},
   "outputs": [],
   "source": [
    "project = redmine.project.create(\n",
    "     name='py-rm-test',\n",
    "     identifier='py-rm-test',\n",
    "     description='## Python-Redmine create prj',\n",
    "     is_public=True\n",
    ")"
   ]
  },
  {
   "cell_type": "code",
   "execution_count": 115,
   "metadata": {},
   "outputs": [
    {
     "data": {
      "text/plain": [
       "[<redminelib.resources.Project #4 \"py-rm-test\">,\n",
       " <redminelib.resources.Project #2 \"Redmine 활성화\">,\n",
       " <redminelib.resources.Project #3 \"test\">]"
      ]
     },
     "execution_count": 115,
     "metadata": {},
     "output_type": "execute_result"
    }
   ],
   "source": [
    "list(redmine.project.all())"
   ]
  },
  {
   "cell_type": "code",
   "execution_count": 118,
   "metadata": {},
   "outputs": [],
   "source": [
    "prj=redmine.project.get(resource_id='py-rm-test')"
   ]
  },
  {
   "cell_type": "code",
   "execution_count": 121,
   "metadata": {},
   "outputs": [
    {
     "data": {
      "text/plain": [
       "[('wiki_pages', None),\n",
       " ('memberships', None),\n",
       " ('issue_categories', None),\n",
       " ('time_entries', None),\n",
       " ('versions', None),\n",
       " ('news', None),\n",
       " ('issues', None),\n",
       " ('files', None),\n",
       " ('trackers', None),\n",
       " ('enabled_modules', None),\n",
       " ('time_entry_activities', None),\n",
       " ('id', 4),\n",
       " ('name', 'py-rm-test'),\n",
       " ('identifier', 'py-rm-test'),\n",
       " ('description', '## Python-Redmine create prj'),\n",
       " ('homepage', ''),\n",
       " ('status', 1),\n",
       " ('is_public', True),\n",
       " ('inherit_members', False),\n",
       " ('created_on', '2020-05-09T16:19:38Z'),\n",
       " ('updated_on', '2020-05-09T16:19:38Z')]"
      ]
     },
     "execution_count": 121,
     "metadata": {},
     "output_type": "execute_result"
    }
   ],
   "source": [
    "list(prj)"
   ]
  },
  {
   "cell_type": "code",
   "execution_count": 123,
   "metadata": {},
   "outputs": [],
   "source": [
    "prj['name'] = 'change_prj_name'"
   ]
  },
  {
   "cell_type": "code",
   "execution_count": 124,
   "metadata": {},
   "outputs": [
    {
     "data": {
      "text/plain": [
       "<redminelib.resources.Project #4 \"change_prj_name\">"
      ]
     },
     "execution_count": 124,
     "metadata": {},
     "output_type": "execute_result"
    }
   ],
   "source": [
    "prj.save()"
   ]
  },
  {
   "cell_type": "code",
   "execution_count": 126,
   "metadata": {},
   "outputs": [],
   "source": [
    "prj['description'] = '### Python-Redmine create prj'"
   ]
  },
  {
   "cell_type": "code",
   "execution_count": 127,
   "metadata": {},
   "outputs": [
    {
     "data": {
      "text/plain": [
       "<redminelib.resources.Project #4 \"change_prj_name\">"
      ]
     },
     "execution_count": 127,
     "metadata": {},
     "output_type": "execute_result"
    }
   ],
   "source": [
    "prj.save()"
   ]
  },
  {
   "cell_type": "code",
   "execution_count": 130,
   "metadata": {},
   "outputs": [
    {
     "data": {
      "text/plain": [
       "'./projects.atom'"
      ]
     },
     "execution_count": 130,
     "metadata": {},
     "output_type": "execute_result"
    }
   ],
   "source": [
    "projects = redmine.project.all()\n",
    "projects.export('atom',savepath='./',filename='projects.atom')"
   ]
  },
  {
   "cell_type": "code",
   "execution_count": 161,
   "metadata": {},
   "outputs": [
    {
     "data": {
      "text/plain": [
       "[('relations', None),\n",
       " ('time_entries', None),\n",
       " ('children', None),\n",
       " ('attachments', None),\n",
       " ('changesets', None),\n",
       " ('journals', None),\n",
       " ('watchers', None),\n",
       " ('id', 4),\n",
       " ('project', {'id': 4, 'name': 'change_prj_name'}),\n",
       " ('tracker', {'id': 1, 'name': '결함'}),\n",
       " ('status', {'id': 1, 'name': '신규'}),\n",
       " ('priority', {'id': 2, 'name': '보통'}),\n",
       " ('author', {'id': 1, 'name': 'admin Admin'}),\n",
       " ('subject', 'test'),\n",
       " ('description', 'test'),\n",
       " ('start_date', '2020-05-10'),\n",
       " ('due_date', None),\n",
       " ('done_ratio', 0),\n",
       " ('is_private', False),\n",
       " ('estimated_hours', None),\n",
       " ('created_on', '2020-05-09T16:51:59Z'),\n",
       " ('updated_on', '2020-05-09T16:51:59Z'),\n",
       " ('closed_on', None)]"
      ]
     },
     "execution_count": 161,
     "metadata": {},
     "output_type": "execute_result"
    }
   ],
   "source": [
    "list(prj.issues[0])"
   ]
  },
  {
   "cell_type": "code",
   "execution_count": 176,
   "metadata": {},
   "outputs": [],
   "source": [
    "import datetime\n",
    "prj.issues[0]['due_date'] = datetime.date(2020,5,10)"
   ]
  },
  {
   "cell_type": "code",
   "execution_count": 186,
   "metadata": {},
   "outputs": [
    {
     "data": {
      "text/plain": [
       "[<redminelib.resources.Issue #4 \"test\">]"
      ]
     },
     "execution_count": 186,
     "metadata": {},
     "output_type": "execute_result"
    }
   ],
   "source": [
    "list(prj.issues)"
   ]
  },
  {
   "cell_type": "code",
   "execution_count": 188,
   "metadata": {},
   "outputs": [],
   "source": [
    "iss = prj.issues.get(resource_id=4)"
   ]
  },
  {
   "cell_type": "code",
   "execution_count": 192,
   "metadata": {
    "scrolled": false
   },
   "outputs": [
    {
     "data": {
      "text/plain": [
       "[('relations', None),\n",
       " ('time_entries', None),\n",
       " ('children', None),\n",
       " ('attachments', None),\n",
       " ('changesets', None),\n",
       " ('journals', None),\n",
       " ('watchers', None),\n",
       " ('id', 4),\n",
       " ('project', {'id': 4, 'name': 'change_prj_name'}),\n",
       " ('tracker', {'id': 1, 'name': '결함'}),\n",
       " ('status', {'id': 1, 'name': '신규'}),\n",
       " ('priority', {'id': 2, 'name': '보통'}),\n",
       " ('author', {'id': 1, 'name': 'admin Admin'}),\n",
       " ('subject', 'test'),\n",
       " ('description', 'test'),\n",
       " ('start_date', '2020-05-10'),\n",
       " ('due_date', None),\n",
       " ('done_ratio', 0),\n",
       " ('is_private', False),\n",
       " ('estimated_hours', None),\n",
       " ('created_on', '2020-05-09T16:51:59Z'),\n",
       " ('updated_on', '2020-05-09T16:51:59Z'),\n",
       " ('closed_on', None)]"
      ]
     },
     "execution_count": 192,
     "metadata": {},
     "output_type": "execute_result"
    }
   ],
   "source": [
    "list(iss)"
   ]
  },
  {
   "cell_type": "code",
   "execution_count": 206,
   "metadata": {},
   "outputs": [
    {
     "data": {
      "text/plain": [
       "<redminelib.resources.Issue #4 \"test\">"
      ]
     },
     "execution_count": 206,
     "metadata": {},
     "output_type": "execute_result"
    }
   ],
   "source": [
    "iss['due_date'] = datetime.date(2020,5,11)\n",
    "iss.save()"
   ]
  },
  {
   "cell_type": "code",
   "execution_count": 207,
   "metadata": {},
   "outputs": [],
   "source": [
    "iss = prj.issues.get(resource_id=4)\n"
   ]
  },
  {
   "cell_type": "code",
   "execution_count": 208,
   "metadata": {},
   "outputs": [
    {
     "data": {
      "text/plain": [
       "[('relations', None),\n",
       " ('time_entries', None),\n",
       " ('children', None),\n",
       " ('attachments', None),\n",
       " ('changesets', None),\n",
       " ('journals', None),\n",
       " ('watchers', None),\n",
       " ('id', 4),\n",
       " ('project', {'id': 4, 'name': 'change_prj_name'}),\n",
       " ('tracker', {'id': 1, 'name': '결함'}),\n",
       " ('status', {'id': 1, 'name': '신규'}),\n",
       " ('priority', {'id': 2, 'name': '보통'}),\n",
       " ('author', {'id': 1, 'name': 'admin Admin'}),\n",
       " ('subject', 'test'),\n",
       " ('description', 'test'),\n",
       " ('start_date', '2020-05-10'),\n",
       " ('due_date', None),\n",
       " ('done_ratio', 0),\n",
       " ('is_private', False),\n",
       " ('estimated_hours', None),\n",
       " ('created_on', '2020-05-09T16:51:59Z'),\n",
       " ('updated_on', '2020-05-09T16:51:59Z'),\n",
       " ('closed_on', None)]"
      ]
     },
     "execution_count": 208,
     "metadata": {},
     "output_type": "execute_result"
    }
   ],
   "source": [
    "list(iss)"
   ]
  },
  {
   "cell_type": "code",
   "execution_count": 212,
   "metadata": {
    "scrolled": false
   },
   "outputs": [
    {
     "data": {
      "text/plain": [
       "<redminelib.resources.Issue #4 \"test\">"
      ]
     },
     "execution_count": 212,
     "metadata": {},
     "output_type": "execute_result"
    }
   ],
   "source": [
    "iss.save(updated='')"
   ]
  },
  {
   "cell_type": "code",
   "execution_count": null,
   "metadata": {},
   "outputs": [],
   "source": []
  }
 ],
 "metadata": {
  "kernelspec": {
   "display_name": "Python 3",
   "language": "python",
   "name": "python3"
  },
  "language_info": {
   "codemirror_mode": {
    "name": "ipython",
    "version": 3
   },
   "file_extension": ".py",
   "mimetype": "text/x-python",
   "name": "python",
   "nbconvert_exporter": "python",
   "pygments_lexer": "ipython3",
   "version": "3.7.4"
  }
 },
 "nbformat": 4,
 "nbformat_minor": 2
}
