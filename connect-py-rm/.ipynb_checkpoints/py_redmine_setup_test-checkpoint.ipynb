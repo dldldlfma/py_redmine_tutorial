{
 "cells": [
  {
   "cell_type": "markdown",
   "metadata": {},
   "source": [
    "# python-redmine tutorial code\n",
    "\n",
    "### 프로젝트 연결"
   ]
  },
  {
   "cell_type": "code",
   "execution_count": 1,
   "metadata": {},
   "outputs": [],
   "source": [
    "from redminelib import Redmine\n",
    "\n",
    "import requests\n",
    "\n",
    "redmine_url = \"http://127.0.0.1/redmine\"\n",
    "\n",
    "redmine = Redmine(redmine_url, username=\"admin\", password=\"11111111\")"
   ]
  },
  {
   "cell_type": "markdown",
   "metadata": {},
   "source": [
    "### redmine에 dir을 적용하면 어떤 요소들이 사용가능한지 나옵니다. \n",
    "\n",
    "Python-Redmine에서 사용되는 object는 Resource object거나 Redmine object입니다.\n",
    "\n",
    "설명과 사용방식은 README.md 에 적어두었으니 확인하시면 됩니다. "
   ]
  },
  {
   "cell_type": "code",
   "execution_count": 19,
   "metadata": {},
   "outputs": [
    {
     "name": "stdout",
     "output_type": "stream",
     "text": [
      "<redminelib.Redmine object at 0x0000022BF5211948>\n",
      "['__class__', '__delattr__', '__dict__', '__dir__', '__doc__', '__eq__', '__format__', '__ge__', '__getattr__', '__getattribute__', '__gt__', '__hash__', '__init__', '__init_subclass__', '__le__', '__lt__', '__module__', '__ne__', '__new__', '__reduce__', '__reduce_ex__', '__repr__', '__setattr__', '__sizeof__', '__str__', '__subclasshook__', '__weakref__', 'auth', 'date_format', 'datetime_format', 'download', 'engine', 'raise_attr_exception', 'search', 'session', 'upload', 'url', 'ver']\n"
     ]
    }
   ],
   "source": [
    "print(redmine)\n",
    "print(dir(redmine))"
   ]
  },
  {
   "cell_type": "code",
   "execution_count": 20,
   "metadata": {},
   "outputs": [
    {
     "data": {
      "text/plain": [
       "'http://127.0.0.1/redmine'"
      ]
     },
     "execution_count": 20,
     "metadata": {},
     "output_type": "execute_result"
    }
   ],
   "source": [
    "redmine.url"
   ]
  },
  {
   "cell_type": "code",
   "execution_count": 21,
   "metadata": {},
   "outputs": [
    {
     "data": {
      "text/plain": [
       "[<redminelib.resources.Project #4 \"change_prj_name\">,\n",
       " <redminelib.resources.Project #2 \"Redmine 활성화\">,\n",
       " <redminelib.resources.Project #3 \"test\">]"
      ]
     },
     "execution_count": 21,
     "metadata": {},
     "output_type": "execute_result"
    }
   ],
   "source": [
    "list(redmine.project.all())"
   ]
  },
  {
   "cell_type": "code",
   "execution_count": 22,
   "metadata": {},
   "outputs": [
    {
     "data": {
      "text/plain": [
       "3"
      ]
     },
     "execution_count": 22,
     "metadata": {},
     "output_type": "execute_result"
    }
   ],
   "source": [
    "len(redmine.project.all())"
   ]
  },
  {
   "cell_type": "code",
   "execution_count": 54,
   "metadata": {},
   "outputs": [
    {
     "name": "stdout",
     "output_type": "stream",
     "text": [
      "change_prj_name\n",
      "Redmine 활성화\n",
      "test\n"
     ]
    }
   ],
   "source": [
    "for i in list(redmine.project.all()):\n",
    "    print(i['name'])"
   ]
  },
  {
   "cell_type": "markdown",
   "metadata": {},
   "source": [
    "## project 생성 코드\n",
    "\n",
    "사용방법은 역시 README.me에 설명되어 있습니다."
   ]
  },
  {
   "cell_type": "code",
   "execution_count": 24,
   "metadata": {},
   "outputs": [],
   "source": [
    "# project = redmine.project.create(\n",
    "#      name='py-rm-test',\n",
    "#      identifier='py-rm-test',\n",
    "#      description='## Python-Redmine create prj',\n",
    "#      is_public=True\n",
    "# )"
   ]
  },
  {
   "cell_type": "code",
   "execution_count": 25,
   "metadata": {},
   "outputs": [
    {
     "data": {
      "text/plain": [
       "[<redminelib.resources.Project #4 \"change_prj_name\">,\n",
       " <redminelib.resources.Project #2 \"Redmine 활성화\">,\n",
       " <redminelib.resources.Project #3 \"test\">]"
      ]
     },
     "execution_count": 25,
     "metadata": {},
     "output_type": "execute_result"
    }
   ],
   "source": [
    "list(redmine.project.all())"
   ]
  },
  {
   "cell_type": "markdown",
   "metadata": {},
   "source": [
    "## Project를 불러와서 수정하기\n",
    "\n",
    "```python\n",
    "redmine.project.get(resource_id='your_prj_id')\n",
    "```\n",
    "\n",
    "위 명령어를 통해서 프로젝트를 불러오고 각 요소를 수정할 수 있습니다. \n",
    "\n",
    "불러와진 요소는 resource형태로 되어 있지만 \n",
    "\n",
    "dictionary와 같은 방식으로 접근하여 수정하는 것이 가능합니다.\n",
    "\n",
    "수정 이후에는 반드시 save()를 해줘야합니다. "
   ]
  },
  {
   "cell_type": "code",
   "execution_count": 36,
   "metadata": {},
   "outputs": [],
   "source": [
    "prj=redmine.project.get(resource_id='py-rm-test')"
   ]
  },
  {
   "cell_type": "code",
   "execution_count": 37,
   "metadata": {},
   "outputs": [
    {
     "name": "stdout",
     "output_type": "stream",
     "text": [
      "<class 'redminelib.resources.standard.Project'>\n",
      "[('wiki_pages', None), ('memberships', None), ('issue_categories', None), ('time_entries', None), ('versions', None), ('news', None), ('issues', None), ('files', None), ('trackers', None), ('enabled_modules', None), ('time_entry_activities', None), ('id', 4), ('name', 'change_prj_name'), ('identifier', 'py-rm-test'), ('description', '### Python-Redmine create prj'), ('homepage', ''), ('status', 1), ('is_public', True), ('inherit_members', False), ('created_on', '2020-05-09T16:19:38Z'), ('updated_on', '2020-05-09T16:37:37Z')]\n"
     ]
    }
   ],
   "source": [
    "print(type(prj))\n",
    "\n",
    "print(list(prj))"
   ]
  },
  {
   "cell_type": "code",
   "execution_count": 38,
   "metadata": {},
   "outputs": [],
   "source": [
    "prj['name'] = 'change_prj_name'"
   ]
  },
  {
   "cell_type": "code",
   "execution_count": 39,
   "metadata": {},
   "outputs": [
    {
     "data": {
      "text/plain": [
       "<redminelib.resources.Project #4 \"change_prj_name\">"
      ]
     },
     "execution_count": 39,
     "metadata": {},
     "output_type": "execute_result"
    }
   ],
   "source": [
    "prj.save()"
   ]
  },
  {
   "cell_type": "code",
   "execution_count": 40,
   "metadata": {},
   "outputs": [],
   "source": [
    "prj['description'] = '### Python-Redmine create prj'"
   ]
  },
  {
   "cell_type": "code",
   "execution_count": 41,
   "metadata": {},
   "outputs": [
    {
     "data": {
      "text/plain": [
       "<redminelib.resources.Project #4 \"change_prj_name\">"
      ]
     },
     "execution_count": 41,
     "metadata": {},
     "output_type": "execute_result"
    }
   ],
   "source": [
    "prj.save()"
   ]
  },
  {
   "cell_type": "markdown",
   "metadata": {},
   "source": [
    "## project 내역 파일로 저장하기\n",
    "\n",
    "python-redmine을 통해서 project 내역을 파일로 저장할 수 있습니다. \n",
    "\n",
    "지원하는 내용은 xml, atom, json입니다. \n",
    "\n",
    "사용방법은 아래와 같습니다. \n"
   ]
  },
  {
   "cell_type": "code",
   "execution_count": 17,
   "metadata": {},
   "outputs": [
    {
     "data": {
      "text/plain": [
       "'./projects.atom'"
      ]
     },
     "execution_count": 17,
     "metadata": {},
     "output_type": "execute_result"
    }
   ],
   "source": [
    "projects = redmine.project.all()\n",
    "projects.export('atom',savepath='./',filename='projects.atom')"
   ]
  },
  {
   "cell_type": "markdown",
   "metadata": {},
   "source": [
    "## project issue 불러오기\n",
    "\n",
    "불러오는 방법은 코드와 같습니다. \n",
    "\n",
    "```python\n",
    "prj=redmine.project.get(resource_id='py-rm-test')\n",
    "list(prj.issues)\n",
    "```\n",
    "\n",
    "프로젝트를 잡고 issues를 불러서 list로 변환하면 됩니다. "
   ]
  },
  {
   "cell_type": "code",
   "execution_count": 49,
   "metadata": {
    "scrolled": true
   },
   "outputs": [
    {
     "data": {
      "text/plain": [
       "[<redminelib.resources.Issue #4 \"test\">]"
      ]
     },
     "execution_count": 49,
     "metadata": {},
     "output_type": "execute_result"
    }
   ],
   "source": [
    "list(prj.issues)"
   ]
  },
  {
   "cell_type": "markdown",
   "metadata": {},
   "source": [
    "## project issue 추가하기"
   ]
  },
  {
   "cell_type": "code",
   "execution_count": 55,
   "metadata": {},
   "outputs": [],
   "source": [
    "import datetime\n",
    "\n",
    "new_issue = redmine.issue.create(\n",
    "    project_id = list(redmine.project.all())[0]['id'],\n",
    "    subject=\"issue create test\",\n",
    "    tracker_id=1, #1 결함 2 새기능 3지원\n",
    "    description=\"### Test\",\n",
    "    status_id = 1,\n",
    "    priority_id =1,\n",
    "    category_id=1   \n",
    ")"
   ]
  },
  {
   "cell_type": "code",
   "execution_count": 57,
   "metadata": {},
   "outputs": [],
   "source": [
    "new_issue = redmine.issue.create(\n",
    "    project_id = list(redmine.project.all())[0]['id'],\n",
    "    subject=\"test2\",\n",
    "    tracker_id=2, #1 결함 2 새기능 3지원\n",
    "    description=\"tracker_id 2 status_id 2 priority_id 2 category_id 2\",\n",
    "    status_id = 2,\n",
    "    priority_id =2,\n",
    "    category_id=2  \n",
    ")"
   ]
  },
  {
   "cell_type": "code",
   "execution_count": 58,
   "metadata": {},
   "outputs": [],
   "source": [
    "new_issue = redmine.issue.create(\n",
    "    project_id = list(redmine.project.all())[0]['id'],\n",
    "    subject=\"test3\",\n",
    "    tracker_id=3, # 유형표시 {결함 : 1 // 새기능 : 2 // 지원 : 3}\n",
    "    description=\"tracker_id 3 status_id 2 priority_id 2 category_id 2\",\n",
    "    status_id = 2,\n",
    "    priority_id =2,\n",
    "    category_id=2  \n",
    ")"
   ]
  },
  {
   "cell_type": "code",
   "execution_count": 59,
   "metadata": {},
   "outputs": [],
   "source": [
    "new_issue = redmine.issue.create(\n",
    "    project_id = list(redmine.project.all())[0]['id'],\n",
    "    subject=\"test4\",\n",
    "    tracker_id=3, # 유형표시 {결함 : 1 // 새기능 : 2 // 지원 : 3}\n",
    "    description=\"tracker_id 3 status_id 3 priority_id 2 category_id 2\",\n",
    "    status_id = 3,\n",
    "    priority_id =2,\n",
    "    category_id=2  \n",
    ")"
   ]
  },
  {
   "cell_type": "code",
   "execution_count": 60,
   "metadata": {},
   "outputs": [],
   "source": [
    "new_issue = redmine.issue.create(\n",
    "    project_id = list(redmine.project.all())[0]['id'],\n",
    "    subject=\"test5\",\n",
    "    tracker_id=3, # 유형표시 {결함 : 1 // 새기능 : 2 // 지원 : 3}\n",
    "    description=\"tracker_id 3 status_id 3 priority_id 2 category_id 2\",\n",
    "    status_id = 1,\n",
    "    priority_id =2,\n",
    "    category_id=2  \n",
    ")"
   ]
  },
  {
   "cell_type": "code",
   "execution_count": 61,
   "metadata": {},
   "outputs": [],
   "source": [
    "new_issue = redmine.issue.create(\n",
    "    project_id = list(redmine.project.all())[0]['id'],\n",
    "    subject=\"test6\",\n",
    "    tracker_id=3, # 유형표시 {결함 : 1 // 새기능 : 2 // 지원 : 3}\n",
    "    description=\"tracker_id 3 status_id 3 priority_id 2 category_id 2\",\n",
    "    status_id = 2,\n",
    "    priority_id =2,\n",
    "    category_id=2  \n",
    ")"
   ]
  },
  {
   "cell_type": "code",
   "execution_count": 62,
   "metadata": {},
   "outputs": [],
   "source": [
    "new_issue = redmine.issue.create(\n",
    "    project_id = list(redmine.project.all())[0]['id'],\n",
    "    subject=\"test7\",\n",
    "    tracker_id=3, # 유형표시 {결함 : 1 // 새기능 : 2 // 지원 : 3}\n",
    "    description=\"tracker_id 3 status_id 2 priority_id 2 category_id 1\",\n",
    "    status_id = 2,\n",
    "    priority_id =2,\n",
    "    category_id=1  # 뭔지 모르겠음\n",
    ")"
   ]
  },
  {
   "cell_type": "code",
   "execution_count": null,
   "metadata": {},
   "outputs": [],
   "source": [
    "prj.issues[0]['due_date'] = datetime.date(2020,5,10)"
   ]
  },
  {
   "cell_type": "code",
   "execution_count": null,
   "metadata": {},
   "outputs": [],
   "source": [
    "list(prj.issues)"
   ]
  },
  {
   "cell_type": "code",
   "execution_count": null,
   "metadata": {},
   "outputs": [],
   "source": [
    "iss = prj.issues.get(resource_id=4)"
   ]
  },
  {
   "cell_type": "code",
   "execution_count": null,
   "metadata": {
    "scrolled": false
   },
   "outputs": [],
   "source": [
    "list(iss)"
   ]
  },
  {
   "cell_type": "code",
   "execution_count": null,
   "metadata": {},
   "outputs": [],
   "source": [
    "iss['due_date'] = datetime.date(2020,5,11)\n",
    "iss.save()"
   ]
  },
  {
   "cell_type": "code",
   "execution_count": null,
   "metadata": {},
   "outputs": [],
   "source": [
    "iss = prj.issues.get(resource_id=4)"
   ]
  },
  {
   "cell_type": "code",
   "execution_count": null,
   "metadata": {},
   "outputs": [],
   "source": [
    "list(iss)"
   ]
  },
  {
   "cell_type": "code",
   "execution_count": null,
   "metadata": {
    "scrolled": false
   },
   "outputs": [],
   "source": [
    "iss.save(updated='')"
   ]
  },
  {
   "cell_type": "code",
   "execution_count": null,
   "metadata": {},
   "outputs": [],
   "source": []
  },
  {
   "cell_type": "code",
   "execution_count": null,
   "metadata": {},
   "outputs": [],
   "source": []
  },
  {
   "cell_type": "code",
   "execution_count": null,
   "metadata": {},
   "outputs": [],
   "source": []
  },
  {
   "cell_type": "code",
   "execution_count": null,
   "metadata": {},
   "outputs": [],
   "source": []
  },
  {
   "cell_type": "code",
   "execution_count": null,
   "metadata": {},
   "outputs": [],
   "source": []
  },
  {
   "cell_type": "code",
   "execution_count": null,
   "metadata": {},
   "outputs": [],
   "source": []
  },
  {
   "cell_type": "code",
   "execution_count": null,
   "metadata": {},
   "outputs": [],
   "source": []
  },
  {
   "cell_type": "code",
   "execution_count": null,
   "metadata": {},
   "outputs": [],
   "source": []
  },
  {
   "cell_type": "code",
   "execution_count": null,
   "metadata": {},
   "outputs": [],
   "source": []
  },
  {
   "cell_type": "code",
   "execution_count": null,
   "metadata": {},
   "outputs": [],
   "source": []
  },
  {
   "cell_type": "code",
   "execution_count": null,
   "metadata": {},
   "outputs": [],
   "source": []
  },
  {
   "cell_type": "code",
   "execution_count": null,
   "metadata": {},
   "outputs": [],
   "source": []
  },
  {
   "cell_type": "code",
   "execution_count": null,
   "metadata": {},
   "outputs": [],
   "source": []
  },
  {
   "cell_type": "code",
   "execution_count": null,
   "metadata": {},
   "outputs": [],
   "source": []
  },
  {
   "cell_type": "code",
   "execution_count": null,
   "metadata": {},
   "outputs": [],
   "source": []
  },
  {
   "cell_type": "code",
   "execution_count": null,
   "metadata": {},
   "outputs": [],
   "source": []
  },
  {
   "cell_type": "code",
   "execution_count": null,
   "metadata": {},
   "outputs": [],
   "source": []
  },
  {
   "cell_type": "code",
   "execution_count": null,
   "metadata": {},
   "outputs": [],
   "source": []
  },
  {
   "cell_type": "code",
   "execution_count": null,
   "metadata": {},
   "outputs": [],
   "source": []
  },
  {
   "cell_type": "code",
   "execution_count": null,
   "metadata": {},
   "outputs": [],
   "source": []
  },
  {
   "cell_type": "code",
   "execution_count": null,
   "metadata": {},
   "outputs": [],
   "source": []
  }
 ],
 "metadata": {
  "kernelspec": {
   "display_name": "Python 3",
   "language": "python",
   "name": "python3"
  },
  "language_info": {
   "codemirror_mode": {
    "name": "ipython",
    "version": 3
   },
   "file_extension": ".py",
   "mimetype": "text/x-python",
   "name": "python",
   "nbconvert_exporter": "python",
   "pygments_lexer": "ipython3",
   "version": "3.7.4"
  }
 },
 "nbformat": 4,
 "nbformat_minor": 2
}
